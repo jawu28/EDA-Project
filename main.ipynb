{
 "cells": [
  {
   "cell_type": "markdown",
   "metadata": {},
   "source": [
    "## Importation of required librairies"
   ]
  },
  {
   "cell_type": "code",
   "execution_count": 14,
   "metadata": {},
   "outputs": [
    {
     "name": "stdout",
     "output_type": "stream",
     "text": [
      "Requirement already satisfied: pandas in c:\\users\\jawus\\desktop\\2024-2025\\learning by myself\\project\\eda-project\\.venv\\lib\\site-packages (2.2.3)\n",
      "Requirement already satisfied: numpy>=1.26.0 in c:\\users\\jawus\\desktop\\2024-2025\\learning by myself\\project\\eda-project\\.venv\\lib\\site-packages (from pandas) (2.2.3)\n",
      "Requirement already satisfied: python-dateutil>=2.8.2 in c:\\users\\jawus\\desktop\\2024-2025\\learning by myself\\project\\eda-project\\.venv\\lib\\site-packages (from pandas) (2.9.0.post0)\n",
      "Requirement already satisfied: pytz>=2020.1 in c:\\users\\jawus\\desktop\\2024-2025\\learning by myself\\project\\eda-project\\.venv\\lib\\site-packages (from pandas) (2025.1)\n",
      "Requirement already satisfied: tzdata>=2022.7 in c:\\users\\jawus\\desktop\\2024-2025\\learning by myself\\project\\eda-project\\.venv\\lib\\site-packages (from pandas) (2025.1)\n",
      "Requirement already satisfied: six>=1.5 in c:\\users\\jawus\\desktop\\2024-2025\\learning by myself\\project\\eda-project\\.venv\\lib\\site-packages (from python-dateutil>=2.8.2->pandas) (1.17.0)\n",
      "Requirement already satisfied: matplotlib in c:\\users\\jawus\\desktop\\2024-2025\\learning by myself\\project\\eda-project\\.venv\\lib\\site-packages (3.10.1)\n",
      "Requirement already satisfied: contourpy>=1.0.1 in c:\\users\\jawus\\desktop\\2024-2025\\learning by myself\\project\\eda-project\\.venv\\lib\\site-packages (from matplotlib) (1.3.1)\n",
      "Requirement already satisfied: cycler>=0.10 in c:\\users\\jawus\\desktop\\2024-2025\\learning by myself\\project\\eda-project\\.venv\\lib\\site-packages (from matplotlib) (0.12.1)\n",
      "Requirement already satisfied: fonttools>=4.22.0 in c:\\users\\jawus\\desktop\\2024-2025\\learning by myself\\project\\eda-project\\.venv\\lib\\site-packages (from matplotlib) (4.56.0)\n",
      "Requirement already satisfied: kiwisolver>=1.3.1 in c:\\users\\jawus\\desktop\\2024-2025\\learning by myself\\project\\eda-project\\.venv\\lib\\site-packages (from matplotlib) (1.4.8)\n",
      "Requirement already satisfied: numpy>=1.23 in c:\\users\\jawus\\desktop\\2024-2025\\learning by myself\\project\\eda-project\\.venv\\lib\\site-packages (from matplotlib) (2.2.3)\n",
      "Requirement already satisfied: packaging>=20.0 in c:\\users\\jawus\\desktop\\2024-2025\\learning by myself\\project\\eda-project\\.venv\\lib\\site-packages (from matplotlib) (24.2)\n",
      "Requirement already satisfied: pillow>=8 in c:\\users\\jawus\\desktop\\2024-2025\\learning by myself\\project\\eda-project\\.venv\\lib\\site-packages (from matplotlib) (11.1.0)\n",
      "Requirement already satisfied: pyparsing>=2.3.1 in c:\\users\\jawus\\desktop\\2024-2025\\learning by myself\\project\\eda-project\\.venv\\lib\\site-packages (from matplotlib) (3.2.1)\n",
      "Requirement already satisfied: python-dateutil>=2.7 in c:\\users\\jawus\\desktop\\2024-2025\\learning by myself\\project\\eda-project\\.venv\\lib\\site-packages (from matplotlib) (2.9.0.post0)\n",
      "Requirement already satisfied: six>=1.5 in c:\\users\\jawus\\desktop\\2024-2025\\learning by myself\\project\\eda-project\\.venv\\lib\\site-packages (from python-dateutil>=2.7->matplotlib) (1.17.0)\n",
      "Requirement already satisfied: seaborn in c:\\users\\jawus\\desktop\\2024-2025\\learning by myself\\project\\eda-project\\.venv\\lib\\site-packages (0.13.2)\n",
      "Requirement already satisfied: numpy!=1.24.0,>=1.20 in c:\\users\\jawus\\desktop\\2024-2025\\learning by myself\\project\\eda-project\\.venv\\lib\\site-packages (from seaborn) (2.2.3)\n",
      "Requirement already satisfied: pandas>=1.2 in c:\\users\\jawus\\desktop\\2024-2025\\learning by myself\\project\\eda-project\\.venv\\lib\\site-packages (from seaborn) (2.2.3)\n",
      "Requirement already satisfied: matplotlib!=3.6.1,>=3.4 in c:\\users\\jawus\\desktop\\2024-2025\\learning by myself\\project\\eda-project\\.venv\\lib\\site-packages (from seaborn) (3.10.1)\n",
      "Requirement already satisfied: contourpy>=1.0.1 in c:\\users\\jawus\\desktop\\2024-2025\\learning by myself\\project\\eda-project\\.venv\\lib\\site-packages (from matplotlib!=3.6.1,>=3.4->seaborn) (1.3.1)\n",
      "Requirement already satisfied: cycler>=0.10 in c:\\users\\jawus\\desktop\\2024-2025\\learning by myself\\project\\eda-project\\.venv\\lib\\site-packages (from matplotlib!=3.6.1,>=3.4->seaborn) (0.12.1)\n",
      "Requirement already satisfied: fonttools>=4.22.0 in c:\\users\\jawus\\desktop\\2024-2025\\learning by myself\\project\\eda-project\\.venv\\lib\\site-packages (from matplotlib!=3.6.1,>=3.4->seaborn) (4.56.0)\n",
      "Requirement already satisfied: kiwisolver>=1.3.1 in c:\\users\\jawus\\desktop\\2024-2025\\learning by myself\\project\\eda-project\\.venv\\lib\\site-packages (from matplotlib!=3.6.1,>=3.4->seaborn) (1.4.8)\n",
      "Requirement already satisfied: packaging>=20.0 in c:\\users\\jawus\\desktop\\2024-2025\\learning by myself\\project\\eda-project\\.venv\\lib\\site-packages (from matplotlib!=3.6.1,>=3.4->seaborn) (24.2)\n",
      "Requirement already satisfied: pillow>=8 in c:\\users\\jawus\\desktop\\2024-2025\\learning by myself\\project\\eda-project\\.venv\\lib\\site-packages (from matplotlib!=3.6.1,>=3.4->seaborn) (11.1.0)\n",
      "Requirement already satisfied: pyparsing>=2.3.1 in c:\\users\\jawus\\desktop\\2024-2025\\learning by myself\\project\\eda-project\\.venv\\lib\\site-packages (from matplotlib!=3.6.1,>=3.4->seaborn) (3.2.1)\n",
      "Requirement already satisfied: python-dateutil>=2.7 in c:\\users\\jawus\\desktop\\2024-2025\\learning by myself\\project\\eda-project\\.venv\\lib\\site-packages (from matplotlib!=3.6.1,>=3.4->seaborn) (2.9.0.post0)\n",
      "Requirement already satisfied: pytz>=2020.1 in c:\\users\\jawus\\desktop\\2024-2025\\learning by myself\\project\\eda-project\\.venv\\lib\\site-packages (from pandas>=1.2->seaborn) (2025.1)\n",
      "Requirement already satisfied: tzdata>=2022.7 in c:\\users\\jawus\\desktop\\2024-2025\\learning by myself\\project\\eda-project\\.venv\\lib\\site-packages (from pandas>=1.2->seaborn) (2025.1)\n",
      "Requirement already satisfied: six>=1.5 in c:\\users\\jawus\\desktop\\2024-2025\\learning by myself\\project\\eda-project\\.venv\\lib\\site-packages (from python-dateutil>=2.7->matplotlib!=3.6.1,>=3.4->seaborn) (1.17.0)\n",
      "Requirement already satisfied: numpy in c:\\users\\jawus\\desktop\\2024-2025\\learning by myself\\project\\eda-project\\.venv\\lib\\site-packages (2.2.3)\n"
     ]
    }
   ],
   "source": [
    "!pip install pandas\n",
    "!pip install matplotlib\n",
    "!pip install seaborn\n",
    "!pip install numpy\t"
   ]
  },
  {
   "cell_type": "code",
   "execution_count": 15,
   "metadata": {},
   "outputs": [],
   "source": [
    "import pandas as pd \n",
    "import matplotlib.pyplot as plt\n",
    "import seaborn as sns\n",
    "import numpy as np  \n",
    "\n",
    "import os \n"
   ]
  },
  {
   "cell_type": "markdown",
   "metadata": {},
   "source": [
    "## Importation, loadind and understanting the data"
   ]
  },
  {
   "cell_type": "code",
   "execution_count": 16,
   "metadata": {},
   "outputs": [],
   "source": [
    "# path of the dataset\n",
    "dataset_name = \"FraudDetectionDataset.csv\"  \n",
    "dataset_path = os.path.abspath(dataset_name)\n",
    "\n",
    "#print(\"Chemin du fichier :\", dataset_path)"
   ]
  },
  {
   "cell_type": "code",
   "execution_count": 17,
   "metadata": {},
   "outputs": [
    {
     "data": {
      "text/html": [
       "<div>\n",
       "<style scoped>\n",
       "    .dataframe tbody tr th:only-of-type {\n",
       "        vertical-align: middle;\n",
       "    }\n",
       "\n",
       "    .dataframe tbody tr th {\n",
       "        vertical-align: top;\n",
       "    }\n",
       "\n",
       "    .dataframe thead th {\n",
       "        text-align: right;\n",
       "    }\n",
       "</style>\n",
       "<table border=\"1\" class=\"dataframe\">\n",
       "  <thead>\n",
       "    <tr style=\"text-align: right;\">\n",
       "      <th></th>\n",
       "      <th>Transaction_ID</th>\n",
       "      <th>User_ID</th>\n",
       "      <th>Transaction_Amount</th>\n",
       "      <th>Transaction_Type</th>\n",
       "      <th>Time_of_Transaction</th>\n",
       "      <th>Device_Used</th>\n",
       "      <th>Location</th>\n",
       "      <th>Previous_Fraudulent_Transactions</th>\n",
       "      <th>Account_Age</th>\n",
       "      <th>Number_of_Transactions_Last_24H</th>\n",
       "      <th>Payment_Method</th>\n",
       "      <th>Fraudulent</th>\n",
       "    </tr>\n",
       "  </thead>\n",
       "  <tbody>\n",
       "    <tr>\n",
       "      <th>0</th>\n",
       "      <td>T1</td>\n",
       "      <td>4174</td>\n",
       "      <td>1292.76</td>\n",
       "      <td>ATM Withdrawal</td>\n",
       "      <td>16.0</td>\n",
       "      <td>Tablet</td>\n",
       "      <td>San Francisco</td>\n",
       "      <td>0</td>\n",
       "      <td>119</td>\n",
       "      <td>13</td>\n",
       "      <td>Debit Card</td>\n",
       "      <td>0</td>\n",
       "    </tr>\n",
       "    <tr>\n",
       "      <th>1</th>\n",
       "      <td>T2</td>\n",
       "      <td>4507</td>\n",
       "      <td>1554.58</td>\n",
       "      <td>ATM Withdrawal</td>\n",
       "      <td>13.0</td>\n",
       "      <td>Mobile</td>\n",
       "      <td>New York</td>\n",
       "      <td>4</td>\n",
       "      <td>79</td>\n",
       "      <td>3</td>\n",
       "      <td>Credit Card</td>\n",
       "      <td>0</td>\n",
       "    </tr>\n",
       "    <tr>\n",
       "      <th>2</th>\n",
       "      <td>T3</td>\n",
       "      <td>1860</td>\n",
       "      <td>2395.02</td>\n",
       "      <td>ATM Withdrawal</td>\n",
       "      <td>NaN</td>\n",
       "      <td>Mobile</td>\n",
       "      <td>NaN</td>\n",
       "      <td>3</td>\n",
       "      <td>115</td>\n",
       "      <td>9</td>\n",
       "      <td>NaN</td>\n",
       "      <td>0</td>\n",
       "    </tr>\n",
       "    <tr>\n",
       "      <th>3</th>\n",
       "      <td>T4</td>\n",
       "      <td>2294</td>\n",
       "      <td>100.10</td>\n",
       "      <td>Bill Payment</td>\n",
       "      <td>15.0</td>\n",
       "      <td>Desktop</td>\n",
       "      <td>Chicago</td>\n",
       "      <td>4</td>\n",
       "      <td>3</td>\n",
       "      <td>4</td>\n",
       "      <td>UPI</td>\n",
       "      <td>0</td>\n",
       "    </tr>\n",
       "    <tr>\n",
       "      <th>4</th>\n",
       "      <td>T5</td>\n",
       "      <td>2130</td>\n",
       "      <td>1490.50</td>\n",
       "      <td>POS Payment</td>\n",
       "      <td>19.0</td>\n",
       "      <td>Mobile</td>\n",
       "      <td>San Francisco</td>\n",
       "      <td>2</td>\n",
       "      <td>57</td>\n",
       "      <td>7</td>\n",
       "      <td>Credit Card</td>\n",
       "      <td>0</td>\n",
       "    </tr>\n",
       "  </tbody>\n",
       "</table>\n",
       "</div>"
      ],
      "text/plain": [
       "  Transaction_ID  User_ID  Transaction_Amount Transaction_Type  \\\n",
       "0             T1     4174             1292.76   ATM Withdrawal   \n",
       "1             T2     4507             1554.58   ATM Withdrawal   \n",
       "2             T3     1860             2395.02   ATM Withdrawal   \n",
       "3             T4     2294              100.10     Bill Payment   \n",
       "4             T5     2130             1490.50      POS Payment   \n",
       "\n",
       "   Time_of_Transaction Device_Used       Location  \\\n",
       "0                 16.0      Tablet  San Francisco   \n",
       "1                 13.0      Mobile       New York   \n",
       "2                  NaN      Mobile            NaN   \n",
       "3                 15.0     Desktop        Chicago   \n",
       "4                 19.0      Mobile  San Francisco   \n",
       "\n",
       "   Previous_Fraudulent_Transactions  Account_Age  \\\n",
       "0                                 0          119   \n",
       "1                                 4           79   \n",
       "2                                 3          115   \n",
       "3                                 4            3   \n",
       "4                                 2           57   \n",
       "\n",
       "   Number_of_Transactions_Last_24H Payment_Method  Fraudulent  \n",
       "0                               13     Debit Card           0  \n",
       "1                                3    Credit Card           0  \n",
       "2                                9            NaN           0  \n",
       "3                                4            UPI           0  \n",
       "4                                7    Credit Card           0  "
      ]
     },
     "execution_count": 17,
     "metadata": {},
     "output_type": "execute_result"
    }
   ],
   "source": [
    "data = pd.read_csv(dataset_path)\n",
    "data.head()"
   ]
  },
  {
   "cell_type": "code",
   "execution_count": 8,
   "metadata": {},
   "outputs": [
    {
     "name": "stdout",
     "output_type": "stream",
     "text": [
      "<class 'pandas.core.frame.DataFrame'>\n",
      "RangeIndex: 51000 entries, 0 to 50999\n",
      "Data columns (total 12 columns):\n",
      " #   Column                            Non-Null Count  Dtype  \n",
      "---  ------                            --------------  -----  \n",
      " 0   Transaction_ID                    51000 non-null  object \n",
      " 1   User_ID                           51000 non-null  int64  \n",
      " 2   Transaction_Amount                48480 non-null  float64\n",
      " 3   Transaction_Type                  51000 non-null  object \n",
      " 4   Time_of_Transaction               48448 non-null  float64\n",
      " 5   Device_Used                       48527 non-null  object \n",
      " 6   Location                          48453 non-null  object \n",
      " 7   Previous_Fraudulent_Transactions  51000 non-null  int64  \n",
      " 8   Account_Age                       51000 non-null  int64  \n",
      " 9   Number_of_Transactions_Last_24H   51000 non-null  int64  \n",
      " 10  Payment_Method                    48531 non-null  object \n",
      " 11  Fraudulent                        51000 non-null  int64  \n",
      "dtypes: float64(2), int64(5), object(5)\n",
      "memory usage: 4.7+ MB\n"
     ]
    }
   ],
   "source": [
    "data.info()"
   ]
  },
  {
   "cell_type": "markdown",
   "metadata": {},
   "source": [
    "According to the output above, we have 51 000 entries, 0 to 50999, as well as 11 features. The \"Non-Null Count\" column shows the number of non-null entries. For the \"Transaction_Amount \",  the count is 48480. Then there is missing values for that particular feature we must treat. The \"Fraudulent\" column is our target or response variable and the rest of the features are our predictor variables.\n",
    "\n",
    "We also have a mix of numerical (5 int64 and 2 float64) and object data types(5). Noticed that this data has NaN values. "
   ]
  },
  {
   "cell_type": "code",
   "execution_count": 19,
   "metadata": {},
   "outputs": [
    {
     "data": {
      "text/plain": [
       "Transaction_ID                         0\n",
       "User_ID                                0\n",
       "Transaction_Amount                  2520\n",
       "Transaction_Type                       0\n",
       "Time_of_Transaction                 2552\n",
       "Device_Used                         2473\n",
       "Location                            2547\n",
       "Previous_Fraudulent_Transactions       0\n",
       "Account_Age                            0\n",
       "Number_of_Transactions_Last_24H        0\n",
       "Payment_Method                      2469\n",
       "Fraudulent                             0\n",
       "dtype: int64"
      ]
     },
     "execution_count": 19,
     "metadata": {},
     "output_type": "execute_result"
    }
   ],
   "source": [
    "data.isnull().sum()"
   ]
  },
  {
   "cell_type": "markdown",
   "metadata": {},
   "source": [
    "## Finding correlations "
   ]
  },
  {
   "cell_type": "code",
   "execution_count": 28,
   "metadata": {},
   "outputs": [
    {
     "data": {
      "text/html": [
       "<div>\n",
       "<style scoped>\n",
       "    .dataframe tbody tr th:only-of-type {\n",
       "        vertical-align: middle;\n",
       "    }\n",
       "\n",
       "    .dataframe tbody tr th {\n",
       "        vertical-align: top;\n",
       "    }\n",
       "\n",
       "    .dataframe thead th {\n",
       "        text-align: right;\n",
       "    }\n",
       "</style>\n",
       "<table border=\"1\" class=\"dataframe\">\n",
       "  <thead>\n",
       "    <tr style=\"text-align: right;\">\n",
       "      <th></th>\n",
       "      <th>User_ID</th>\n",
       "      <th>Transaction_Amount</th>\n",
       "      <th>Time_of_Transaction</th>\n",
       "      <th>Previous_Fraudulent_Transactions</th>\n",
       "      <th>Account_Age</th>\n",
       "      <th>Number_of_Transactions_Last_24H</th>\n",
       "      <th>Fraudulent</th>\n",
       "    </tr>\n",
       "  </thead>\n",
       "  <tbody>\n",
       "    <tr>\n",
       "      <th>0</th>\n",
       "      <td>4174</td>\n",
       "      <td>1292.76</td>\n",
       "      <td>16.0</td>\n",
       "      <td>0</td>\n",
       "      <td>119</td>\n",
       "      <td>13</td>\n",
       "      <td>0</td>\n",
       "    </tr>\n",
       "    <tr>\n",
       "      <th>1</th>\n",
       "      <td>4507</td>\n",
       "      <td>1554.58</td>\n",
       "      <td>13.0</td>\n",
       "      <td>4</td>\n",
       "      <td>79</td>\n",
       "      <td>3</td>\n",
       "      <td>0</td>\n",
       "    </tr>\n",
       "    <tr>\n",
       "      <th>2</th>\n",
       "      <td>1860</td>\n",
       "      <td>2395.02</td>\n",
       "      <td>NaN</td>\n",
       "      <td>3</td>\n",
       "      <td>115</td>\n",
       "      <td>9</td>\n",
       "      <td>0</td>\n",
       "    </tr>\n",
       "    <tr>\n",
       "      <th>3</th>\n",
       "      <td>2294</td>\n",
       "      <td>100.10</td>\n",
       "      <td>15.0</td>\n",
       "      <td>4</td>\n",
       "      <td>3</td>\n",
       "      <td>4</td>\n",
       "      <td>0</td>\n",
       "    </tr>\n",
       "    <tr>\n",
       "      <th>4</th>\n",
       "      <td>2130</td>\n",
       "      <td>1490.50</td>\n",
       "      <td>19.0</td>\n",
       "      <td>2</td>\n",
       "      <td>57</td>\n",
       "      <td>7</td>\n",
       "      <td>0</td>\n",
       "    </tr>\n",
       "    <tr>\n",
       "      <th>...</th>\n",
       "      <td>...</td>\n",
       "      <td>...</td>\n",
       "      <td>...</td>\n",
       "      <td>...</td>\n",
       "      <td>...</td>\n",
       "      <td>...</td>\n",
       "      <td>...</td>\n",
       "    </tr>\n",
       "    <tr>\n",
       "      <th>50995</th>\n",
       "      <td>2339</td>\n",
       "      <td>3112.51</td>\n",
       "      <td>15.0</td>\n",
       "      <td>0</td>\n",
       "      <td>7</td>\n",
       "      <td>8</td>\n",
       "      <td>0</td>\n",
       "    </tr>\n",
       "    <tr>\n",
       "      <th>50996</th>\n",
       "      <td>2152</td>\n",
       "      <td>2897.15</td>\n",
       "      <td>3.0</td>\n",
       "      <td>1</td>\n",
       "      <td>75</td>\n",
       "      <td>11</td>\n",
       "      <td>1</td>\n",
       "    </tr>\n",
       "    <tr>\n",
       "      <th>50997</th>\n",
       "      <td>3345</td>\n",
       "      <td>2204.43</td>\n",
       "      <td>18.0</td>\n",
       "      <td>3</td>\n",
       "      <td>73</td>\n",
       "      <td>5</td>\n",
       "      <td>0</td>\n",
       "    </tr>\n",
       "    <tr>\n",
       "      <th>50998</th>\n",
       "      <td>1518</td>\n",
       "      <td>4787.17</td>\n",
       "      <td>19.0</td>\n",
       "      <td>2</td>\n",
       "      <td>108</td>\n",
       "      <td>14</td>\n",
       "      <td>0</td>\n",
       "    </tr>\n",
       "    <tr>\n",
       "      <th>50999</th>\n",
       "      <td>2315</td>\n",
       "      <td>814.72</td>\n",
       "      <td>3.0</td>\n",
       "      <td>0</td>\n",
       "      <td>50</td>\n",
       "      <td>10</td>\n",
       "      <td>0</td>\n",
       "    </tr>\n",
       "  </tbody>\n",
       "</table>\n",
       "<p>51000 rows × 7 columns</p>\n",
       "</div>"
      ],
      "text/plain": [
       "       User_ID  Transaction_Amount  Time_of_Transaction  \\\n",
       "0         4174             1292.76                 16.0   \n",
       "1         4507             1554.58                 13.0   \n",
       "2         1860             2395.02                  NaN   \n",
       "3         2294              100.10                 15.0   \n",
       "4         2130             1490.50                 19.0   \n",
       "...        ...                 ...                  ...   \n",
       "50995     2339             3112.51                 15.0   \n",
       "50996     2152             2897.15                  3.0   \n",
       "50997     3345             2204.43                 18.0   \n",
       "50998     1518             4787.17                 19.0   \n",
       "50999     2315              814.72                  3.0   \n",
       "\n",
       "       Previous_Fraudulent_Transactions  Account_Age  \\\n",
       "0                                     0          119   \n",
       "1                                     4           79   \n",
       "2                                     3          115   \n",
       "3                                     4            3   \n",
       "4                                     2           57   \n",
       "...                                 ...          ...   \n",
       "50995                                 0            7   \n",
       "50996                                 1           75   \n",
       "50997                                 3           73   \n",
       "50998                                 2          108   \n",
       "50999                                 0           50   \n",
       "\n",
       "       Number_of_Transactions_Last_24H  Fraudulent  \n",
       "0                                   13           0  \n",
       "1                                    3           0  \n",
       "2                                    9           0  \n",
       "3                                    4           0  \n",
       "4                                    7           0  \n",
       "...                                ...         ...  \n",
       "50995                                8           0  \n",
       "50996                               11           1  \n",
       "50997                                5           0  \n",
       "50998                               14           0  \n",
       "50999                               10           0  \n",
       "\n",
       "[51000 rows x 7 columns]"
      ]
     },
     "execution_count": 28,
     "metadata": {},
     "output_type": "execute_result"
    }
   ],
   "source": [
    "data_features = data.select_dtypes(include = ['float64', 'int64'])\n",
    "data_features\n",
    "\n"
   ]
  },
  {
   "cell_type": "code",
   "execution_count": 29,
   "metadata": {},
   "outputs": [
    {
     "data": {
      "text/plain": [
       "User_ID                             0.008046\n",
       "Transaction_Amount                  0.005507\n",
       "Time_of_Transaction                 0.007035\n",
       "Previous_Fraudulent_Transactions    0.001136\n",
       "Account_Age                         0.006203\n",
       "Number_of_Transactions_Last_24H    -0.003877\n",
       "Name: Fraudulent, dtype: float64"
      ]
     },
     "execution_count": 29,
     "metadata": {},
     "output_type": "execute_result"
    }
   ],
   "source": [
    "data_features_corr = data_features.corr()['Fraudulent'][:-1]\n",
    "data_features_corr"
   ]
  },
  {
   "cell_type": "code",
   "execution_count": 36,
   "metadata": {},
   "outputs": [
    {
     "data": {
      "image/png": "[encoded data removed]",
      "text/plain": [
       "<Figure size 1000x800 with 2 Axes>"
      ]
     },
     "metadata": {},
     "output_type": "display_data"
    }
   ],
   "source": [
    "plt.figure(figsize=(10, 8))\n",
    "sns.heatmap(data_features.corr(), annot=True, cmap='coolwarm', fmt='.2f')\n",
    "plt.title(\"Correlation Heatmap\")\n",
    "plt.show()"
   ]
  },
  {
   "cell_type": "markdown",
   "metadata": {},
   "source": [
    "The correlation values are all close to 0, meaning none of these variables have a strong linear relationship with the target variable \"Fraudulent.\"\n",
    "\n",
    "This could indicate that these variables are not good predictors of fraud in this context, or that the relationship between these variables and fraud is non-linear. We will see.\n"
   ]
  },
  {
   "cell_type": "markdown",
   "metadata": {},
   "source": [
    "## Data cleaning and feature engineering "
   ]
  }
 ],
 "metadata": {
  "kernelspec": {
   "display_name": ".venv",
   "language": "python",
   "name": "python3"
  },
  "language_info": {
   "codemirror_mode": {
    "name": "ipython",
    "version": 3
   },
   "file_extension": ".py",
   "mimetype": "text/x-python",
   "name": "python",
   "nbconvert_exporter": "python",
   "pygments_lexer": "ipython3",
   "version": "3.12.9"
  }
 },
 "nbformat": 4,
 "nbformat_minor": 2
}
